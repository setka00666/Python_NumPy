{
 "cells": [
  {
   "cell_type": "markdown",
   "id": "4e3cf6d6-47bb-4647-816e-344df3a5aa78",
   "metadata": {},
   "source": [
    "1 - Создайте NumPy array с элементами от числа N до 0.\r\n",
    "N не входит в массив. Для N = 10 результат будет array([9, 8, 7, 6, 5, 4, 3, 2, 1, 0])).\r\n",
    "\r\n",
    "Важно: не удаляйте код ниже, а дополните его. Функция необходима для проверки вашего решения. Функция принимает целое число и возвращает np.array."
   ]
  },
  {
   "cell_type": "code",
   "execution_count": 2,
   "id": "5e37e356-5af3-42f1-881e-c13151ab604c",
   "metadata": {},
   "outputs": [],
   "source": [
    "import numpy as np"
   ]
  },
  {
   "cell_type": "code",
   "execution_count": 3,
   "id": "cd7b60af-d263-4c52-8152-795b5cfe3cc2",
   "metadata": {},
   "outputs": [
    {
     "name": "stdout",
     "output_type": "stream",
     "text": [
      "[9 8 7 6 5 4 3 2 1 0]\n",
      "[14 13 12 11 10  9  8  7  6  5  4  3  2  1  0]\n",
      "[19 18 17 16 15 14 13 12 11 10  9  8  7  6  5  4  3  2  1  0]\n"
     ]
    }
   ],
   "source": [
    "def my_array(int):\n",
    "    a = np.arange(int-1, -1,-1)\n",
    "    return a\n",
    " \n",
    "print(my_array(10))\n",
    "print(my_array(15))\n",
    "print(my_array(20))"
   ]
  },
  {
   "cell_type": "markdown",
   "id": "4698a86d-beea-4f64-8f29-0d6d10e8cdf8",
   "metadata": {},
   "source": [
    "2 - Создайте диагональную матрицу с элементами от N до 0 (N входит в массив).\r\n",
    "Посчитайте сумму её значений на диагонали.\r\n",
    "\r\n",
    "Важно: не удаляйте код ниже, а дополните его. Функция необходима для проверки вашего решения. Функция принимает целое число и возвращает целое число."
   ]
  },
  {
   "cell_type": "code",
   "execution_count": 8,
   "id": "b63a9dbe-1a3b-4236-a078-fd8f5d5c9a49",
   "metadata": {},
   "outputs": [
    {
     "name": "stdout",
     "output_type": "stream",
     "text": [
      "15\n",
      "55\n",
      "120\n"
     ]
    }
   ],
   "source": [
    "def sum_matrix(int) :\n",
    "    my_matrix = np.sum(np.diag(np.arange(1, int+1)))\n",
    "    return my_matrix\n",
    " \n",
    "print(sum_matrix(5))\n",
    "print(sum_matrix(10))\n",
    "print(sum_matrix(15))"
   ]
  },
  {
   "attachments": {},
   "cell_type": "markdown",
   "id": "c7dfbe8a-0a81-423c-8ec8-7612aec4721c",
   "metadata": {},
   "source": [
    "Условие задачи\r\n",
    "Имеется матрица покупок в интернет-магазине. Столбец А - ID пользователя. Остальные столбцы - количество покупок категорий товаров этим пользователем\r\n",
    "\r\n",
    "Матрица в виде numpy array\r\n",
    "\r\n",
    "1\r\n",
    "2\r\n",
    "3\r\n",
    "4\r\n",
    "5\r\n",
    "6\r\n",
    "7\r\n",
    "8\r\n",
    "9\r\n",
    "10\r\n",
    "11\r\n",
    "12\r\n",
    "13\r\n",
    "14\r\n",
    "15\r\n",
    "users_stats = np.array(\r\n",
    "    [\r\n",
    "        [2, 1, 0, 0, 0, 0],\r\n",
    "        [1, 1, 2, 1, 0, 0],\r\n",
    "        [2, 0, 1, 0, 0, 0],\r\n",
    "        [1, 1, 2, 1, 0, 1],\r\n",
    "        [0, 0, 1, 2, 0, 0],\r\n",
    "        [0, 0, 0, 0, 0, 5],\r\n",
    "        [1, 0, 0, 0, 0, 0],\r\n",
    "        [0, 1, 1, 0, 0, 0],\r\n",
    "        [0, 0, 0, 1, 1, 3],\r\n",
    "        [1, 0, 0, 2, 1, 4]\r\n",
    "    ], \r\n",
    "    np.int32\r\n",
    ")\r\n",
    "На сайт заходит очередной посетитель, о покупках которого известно следующее:\r\n",
    "\r\n",
    "1\r\n",
    "next_user_stats = np.array([0, 1, 2, 0, 0, 0])\r\n",
    "Найдите индекс самого похожего пользователя max_index, т.е. посчитайте косинусное сходство между этим пользователем и каждым из пользователей из массива user_stats.\r\n",
    "Нумерацию индексов следует начинать с 0.\r\n",
    "Впишите свое решение вместо \" …\"\r\n",
    "\r\n",
    "Важно: не удаляйте код ниже, а дополните его. Функция необходима для проверки вашего решения. Функция принимает матрицу и массив и возвращает целое число – ИНДЕКС самого похожего пользователя"
   ]
  },
  {
   "cell_type": "code",
   "execution_count": 9,
   "id": "f87ca4a9-54e3-4f8c-8ef1-474faccb32fa",
   "metadata": {},
   "outputs": [
    {
     "name": "stdout",
     "output_type": "stream",
     "text": [
      "7\n"
     ]
    }
   ],
   "source": [
    "users_stats = np.array(\n",
    "    [\n",
    "        [2, 1, 0, 0, 0, 0],\n",
    "        [1, 1, 2, 1, 0, 0],\n",
    "        [2, 0, 1, 0, 0, 0],\n",
    "        [1, 1, 2, 1, 0, 1],\n",
    "        [0, 0, 1, 2, 0, 0],\n",
    "        [0, 0, 0, 0, 0, 5],\n",
    "        [1, 0, 0, 0, 0, 0],\n",
    "        [0, 1, 1, 0, 0, 0],\n",
    "        [0, 0, 0, 1, 1, 3],\n",
    "        [1, 0, 0, 2, 1, 4]\n",
    "    ], np.int32\n",
    ")\n",
    "\n",
    "next_user_stats = np.array([0, 1, 2, 0, 0, 0])\n",
    "\n",
    "def cosine(matrix, user):\n",
    "    max_index = 0\n",
    "    user_index = 0\n",
    "    for i, a in enumerate(matrix):\n",
    "        userr = np.array(user)\n",
    "        cc = np.dot(userr, a) / ((np.linalg.norm(userr)) * (np.linalg.norm(a)))\n",
    "        if cc > max_index:\n",
    "            user_index = i\n",
    "    \n",
    "    \n",
    "    return user_index\n",
    "\n",
    "print(cosine(users_stats, next_user_stats))"
   ]
  },
  {
   "cell_type": "code",
   "execution_count": null,
   "id": "15c86ae9-f9ca-4c74-a89b-c776ae8d8ce0",
   "metadata": {},
   "outputs": [],
   "source": []
  }
 ],
 "metadata": {
  "kernelspec": {
   "display_name": "anaconda-panel-2023.05-py310",
   "language": "python",
   "name": "conda-env-anaconda-panel-2023.05-py310-py"
  },
  "language_info": {
   "codemirror_mode": {
    "name": "ipython",
    "version": 3
   },
   "file_extension": ".py",
   "mimetype": "text/x-python",
   "name": "python",
   "nbconvert_exporter": "python",
   "pygments_lexer": "ipython3",
   "version": "3.11.5"
  }
 },
 "nbformat": 4,
 "nbformat_minor": 5
}
