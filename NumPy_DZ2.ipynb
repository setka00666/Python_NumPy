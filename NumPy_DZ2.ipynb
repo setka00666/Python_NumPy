{
  "metadata": {
    "kernelspec": {
      "name": "python",
      "display_name": "Python (Pyodide)",
      "language": "python"
    },
    "language_info": {
      "codemirror_mode": {
        "name": "python",
        "version": 3
      },
      "file_extension": ".py",
      "mimetype": "text/x-python",
      "name": "python",
      "nbconvert_exporter": "python",
      "pygments_lexer": "ipython3",
      "version": "3.8"
    }
  },
  "nbformat_minor": 5,
  "nbformat": 4,
  "cells": [
    {
      "id": "16650d5d-8ed7-4adf-9eed-743465e5928d",
      "cell_type": "code",
      "source": "import numpy as np",
      "metadata": {
        "trusted": true
      },
      "outputs": [],
      "execution_count": 1
    },
    {
      "id": "9c700a78-4da8-4d87-a0b8-907f5e693b60",
      "cell_type": "code",
      "source": "x = np.array([4,3])\ny = np.array([2,1])",
      "metadata": {
        "trusted": true
      },
      "outputs": [],
      "execution_count": 18
    },
    {
      "id": "e94fca59-98ba-4674-9e43-31334b9d99e6",
      "cell_type": "code",
      "source": "type(x)",
      "metadata": {
        "trusted": true
      },
      "outputs": [
        {
          "execution_count": 3,
          "output_type": "execute_result",
          "data": {
            "text/plain": "numpy.ndarray"
          },
          "metadata": {}
        }
      ],
      "execution_count": 3
    },
    {
      "id": "03698a34-71a4-4657-b4e0-278c7d4106b9",
      "cell_type": "code",
      "source": "x.shape\n",
      "metadata": {
        "trusted": true
      },
      "outputs": [
        {
          "execution_count": 4,
          "output_type": "execute_result",
          "data": {
            "text/plain": "(3,)"
          },
          "metadata": {}
        }
      ],
      "execution_count": 4
    },
    {
      "id": "f0e9260f-10d3-4b9d-accb-b0cb08d7a5fc",
      "cell_type": "code",
      "source": "np.diag(np.arange(2,50,15), k=-2)",
      "metadata": {
        "trusted": true
      },
      "outputs": [
        {
          "execution_count": 11,
          "output_type": "execute_result",
          "data": {
            "text/plain": "array([[ 0,  0,  0,  0,  0,  0],\n       [ 0,  0,  0,  0,  0,  0],\n       [ 2,  0,  0,  0,  0,  0],\n       [ 0, 17,  0,  0,  0,  0],\n       [ 0,  0, 32,  0,  0,  0],\n       [ 0,  0,  0, 47,  0,  0]])"
          },
          "metadata": {}
        }
      ],
      "execution_count": 11
    },
    {
      "id": "ffc6dff8-1d72-4da4-8eec-fd7e1aaeb7ad",
      "cell_type": "code",
      "source": "a = np.dot(x,y)\nc = np.linalg.norm(x)\nb = ",
      "metadata": {
        "trusted": true
      },
      "outputs": [],
      "execution_count": 22
    },
    {
      "id": "ca730fd0-2aa7-4238-bacf-489f9dd86ca0",
      "cell_type": "code",
      "source": "aa = ((a)/((np.linalg.norm(x)) * (np.linalg.norm(y))))",
      "metadata": {
        "trusted": true
      },
      "outputs": [],
      "execution_count": 29
    },
    {
      "id": "b1894991-c61f-4efb-80e6-3e982e834b0e",
      "cell_type": "code",
      "source": "np.arccos(aa)",
      "metadata": {
        "trusted": true
      },
      "outputs": [
        {
          "execution_count": 30,
          "output_type": "execute_result",
          "data": {
            "text/plain": "np.float64(0.17985349979247847)"
          },
          "metadata": {}
        }
      ],
      "execution_count": 30
    },
    {
      "id": "f9ffe390-9ad0-4eba-8d77-9a26303356f6",
      "cell_type": "code",
      "source": "Найдите индекс самого похожего пользователя max_index, т.е. посчитайте косинусное сходство между этим пользователем и каждым из пользователей из массива user_stats.\nНумерацию индексов следует начинать с 0.\nВпишите свое решение вместо \" …\"\n\nВажно: не удаляйте код ниже, а дополните его. Функция необходима для проверки вашего решения. Функция принимает матрицу и массив и возвращает целое число – ИНДЕКС самого похожего пользователя",
      "metadata": {
        "trusted": true
      },
      "outputs": [],
      "execution_count": null
    },
    {
      "id": "2e80e070-1030-4955-bbc8-fc0e42bdbc58",
      "cell_type": "code",
      "source": "import numpy as np\nusers_stats = np.array(\n    [\n        [2, 1, 0, 0, 0, 0],\n        [1, 1, 2, 1, 0, 0],\n        [2, 0, 1, 0, 0, 0],\n        [1, 1, 2, 1, 0, 1],\n        [0, 0, 1, 2, 0, 0],\n        [0, 0, 0, 0, 0, 5],\n        [1, 0, 0, 0, 0, 0],\n        [0, 1, 1, 0, 0, 0],\n        [0, 0, 0, 1, 1, 3],\n        [1, 0, 0, 2, 1, 4]\n    ], np.int32\n)\n\nnext_user_stats = np.array([0, 1, 2, 0, 0, 0])\n\ndef cosine(matrix, user):\n    max_index = 0\n    user_index = 0\n    for i, a in enumerate(matrix):\n        userr = np.array(user)\n        cc = np.dot(userr, a) / ((np.linalg.norm(userr)) * (np.linalg.norm(a)))\n        if cc > max_index:\n            user_index = i\n    \n    \n    return user_index\n\nprint(cosine(users_stats, next_user_stats))\n    ",
      "metadata": {
        "trusted": true
      },
      "outputs": [
        {
          "name": "stdout",
          "output_type": "stream",
          "text": "7\n"
        }
      ],
      "execution_count": 93
    },
    {
      "id": "7cdc8daf-34b7-4bcd-a37e-c3a51c7394ee",
      "cell_type": "code",
      "source": "\nРешите систему уравнений:\n4x + 2y + z = 4\nx + 3y = 12\n5y + 4z = -3\n\nВажно: не удаляйте код ниже, а дополните его. Функция необходима для проверки вашего решения. Она должна вернуть массив чисел с плавающей точкой.\n    \n\n",
      "metadata": {
        "trusted": true
      },
      "outputs": [
        {
          "name": "stdout",
          "output_type": "stream",
          "text": "1\n5\n2\n5\n2\n0\n0\n3\n0\n0\n"
        }
      ],
      "execution_count": 89
    },
    {
      "id": "486603f9-9921-4a5b-b64b-048158c403d7",
      "cell_type": "code",
      "source": "import numpy as np\nfrom numpy import linalg \n\n\na = np.array([[4, 2, 1], [1, 3, 0], [0, 5, 4]])\nb = np.array([4, 12, -3])\nnp.allclose( np.dot(a, linalg.solve(a, b)), b )\n ",
      "metadata": {
        "trusted": true
      },
      "outputs": [
        {
          "execution_count": 20,
          "output_type": "execute_result",
          "data": {
            "text/plain": "True"
          },
          "metadata": {}
        }
      ],
      "execution_count": 20
    },
    {
      "id": "30556392-f2d1-428f-a62a-3c6555606472",
      "cell_type": "code",
      "source": "linalg.solve(a, b)",
      "metadata": {
        "trusted": true
      },
      "outputs": [
        {
          "execution_count": 16,
          "output_type": "execute_result",
          "data": {
            "text/plain": "array([ 0.46666667,  3.84444444, -5.55555556])"
          },
          "metadata": {}
        }
      ],
      "execution_count": 16
    },
    {
      "id": "0fc54277-1c34-4a60-8654-ebba4408f8a4",
      "cell_type": "code",
      "source": "def sys_lin_eq() :\n    a = np.array([[4, 2, 1], [1, 3, 0], [0, 5, 4]])\n    b = np.array([4, 12, -3])\n    return linalg.solve(a, b)\n\nprint(sys_lin_eq())",
      "metadata": {
        "trusted": true
      },
      "outputs": [
        {
          "name": "stdout",
          "output_type": "stream",
          "text": "[ 0.46666667  3.84444444 -5.55555556]\n"
        }
      ],
      "execution_count": 19
    },
    {
      "id": "4c1fae3e-492d-4bfd-ba34-3993bfc0b046",
      "cell_type": "code",
      "source": "",
      "metadata": {
        "trusted": true
      },
      "outputs": [],
      "execution_count": null
    }
  ]
}
